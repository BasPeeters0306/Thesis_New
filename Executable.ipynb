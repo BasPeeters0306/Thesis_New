{
 "cells": [
  {
   "cell_type": "code",
   "execution_count": 2,
   "metadata": {},
   "outputs": [],
   "source": [
    "# Import required packages\n",
    "import numpy as np\n",
    "import pandas as pd\n",
    "import matplotlib.pyplot as plt\n",
    "import seaborn as sns\n",
    "\n",
    "import importlib\n",
    "from warnings import simplefilter\n",
    "from six import StringIO\n",
    "from IPython.display import Image\n",
    "\n",
    "# Reload external files\n",
    "import importlib\n",
    "\n",
    "# Mute warnings\n",
    "simplefilter(action='ignore', category=FutureWarning)\n",
    "simplefilter(action='ignore', category=DeprecationWarning)\n",
    "\n",
    "import datetime\n",
    "\n",
    "from tqdm import tqdm\n",
    "from tqdm._tqdm_notebook import tqdm_notebook\n",
    "tqdm_notebook.pandas()\n",
    "\n",
    "import os"
   ]
  },
  {
   "attachments": {},
   "cell_type": "markdown",
   "metadata": {},
   "source": [
    "# Load data"
   ]
  },
  {
   "cell_type": "code",
   "execution_count": null,
   "metadata": {},
   "outputs": [],
   "source": [
    "# Change function of EOD because we use Compustat....\n",
    "# In the end, add all used Excel files to this repo, we have: stock_universe_new.joblib, SP500H_EOD_raw, SP500H_RP_SESI (if we only use daily SESI score and no other sentiment feature types)\n",
    "# We use EOD for the list of historical components\n",
    "# At the end, just do all data steps one more time "
   ]
  },
  {
   "cell_type": "code",
   "execution_count": null,
   "metadata": {},
   "outputs": [],
   "source": [
    "# Choose data location, EOD, SQL or CSV, Compustat\n",
    "str_load_data = \"CSV\""
   ]
  },
  {
   "cell_type": "code",
   "execution_count": null,
   "metadata": {},
   "outputs": [],
   "source": [
    "# This entire notebook should go in a separate ipynb file later\n",
    "\n",
    "# Loads raw data, data cleaning and transformation is needed after this\n",
    "import Load_data\n",
    "importlib.reload(Load_data)\n",
    "\n",
    "if str_load_data == \"EOD_old_method\":\n",
    "    \n",
    "    # Index name \n",
    "    str_index_name = \"S&P500_historical\"\n",
    "\n",
    "    # Loads market data from EOD\n",
    "    ar_index, df_index = Load_data.create_stock_universe_old(str_index_name)\n",
    "    df = Load_data.load_EOD(ar_index)\n",
    "\n",
    "    df = Load_data.create_historical_SP_Index_old_method(df_index, df)            \n",
    "\n",
    "    # Adds lags and returns\n",
    "    df = Load_data.add_lags(df)\n",
    "\n",
    "if str_load_data == \"EOD_new_method\":\n",
    "\n",
    "    df = Load_data.create_historical_SP_Index()\n",
    "\n",
    "    # Adds lags and returns\n",
    "    df = Load_data.add_lags(df)\n",
    "\n",
    "elif str_load_data == \"SQL\":\n",
    "    \n",
    "    # Name of the dataframe\n",
    "    str_table_name = \"SP500H_RP_raw\"\n",
    "\n",
    "    # Specify column subset, None if all columns should be loaded\n",
    "    str_column_subset = \"[TIMESTAMP_TZ], [RP_ENTITY_ID], [ENTITY_NAME], [EVENT_SENTIMENT], [EVENT_RELEVANCE], [EVENT_SIMILARITY_DAYS]\"\n",
    "\n",
    "    # Loads the dataframe from SQL\n",
    "    df = Load_data.load_SQL(str_table_name, str_column_subset)\n",
    "\n",
    "elif str_load_data == \"CSV\":\n",
    "\n",
    "    df_full = Load_data.load_csv(\"df_Compustat_SPH\")\n",
    "\n",
    "# Check the number of unique elements of SymbolExchangeCode for every BarDate\n",
    "# df_test = df.groupby(\"BarDate\")[\"Ticker\"].nunique()\n",
    "\n",
    "# Plot the number of unique elements of SymbolExchangeCode for every BarDate\n",
    "# df.groupby(\"BarDate\")[\"Ticker\"].nunique().plot()"
   ]
  },
  {
   "attachments": {},
   "cell_type": "markdown",
   "metadata": {},
   "source": [
    "### Load market data"
   ]
  },
  {
   "cell_type": "code",
   "execution_count": null,
   "metadata": {},
   "outputs": [],
   "source": [
    "# Change all possible places to df when ready....... (to save space)"
   ]
  },
  {
   "cell_type": "code",
   "execution_count": 3,
   "metadata": {},
   "outputs": [],
   "source": [
    "import Load_data\n",
    "importlib.reload(Load_data)\n",
    "# Loads raw Compustat data from CSV\n",
    "df_raw = Load_data.load_csv(\"df_Compustat_raw\")"
   ]
  },
  {
   "attachments": {},
   "cell_type": "markdown",
   "metadata": {},
   "source": [
    "### Create Historical SP500 index"
   ]
  },
  {
   "cell_type": "code",
   "execution_count": 4,
   "metadata": {},
   "outputs": [
    {
     "name": "stderr",
     "output_type": "stream",
     "text": [
      "251it [00:33,  7.38it/s]\n"
     ]
    },
    {
     "data": {
      "image/png": "[encoded data removed]",
      "text/plain": [
       "<Figure size 640x480 with 1 Axes>"
      ]
     },
     "metadata": {},
     "output_type": "display_data"
    }
   ],
   "source": [
    "import Load_data\n",
    "importlib.reload(Load_data)\n",
    "df_market_raw = Load_data.create_historical_SP_Index_deliver(df_raw)"
   ]
  },
  {
   "attachments": {},
   "cell_type": "markdown",
   "metadata": {},
   "source": [
    "### Add lags, returns and target"
   ]
  },
  {
   "cell_type": "code",
   "execution_count": 5,
   "metadata": {},
   "outputs": [
    {
     "name": "stdout",
     "output_type": "stream",
     "text": [
      "Number of NaN values per column = \n",
      " BarDate          0\n",
      "Ticker           0\n",
      "AdjustedClose    0\n",
      "dtype: int64\n",
      "NaN value dropped\n",
      "NaN value dropped\n",
      "df_prices = \n",
      "      BarDate Ticker  AdjustedClose  AdjustedClose_Lag_1  AdjustedClose_Lag_2  AdjustedClose_Lag_3  AdjustedClose_Lag_4  AdjustedClose_Lag_5  AdjustedClose_Lead_1  AdjustedClose_Lead_2  AdjustedClose_Lead_3  AdjustedClose_Lead_4  AdjustedClose_Lead_5  FiveDayReturn  PreviousDayDirection  NextDayDirection\n",
      "0 2000-06-13      A        39.5029              37.7853              41.0773              38.8946              38.0716              40.5047               38.8230               37.6780               35.6027               38.6799               42.0076      -0.024733                     1                 0\n",
      "1 2000-06-13     AA        50.1007              51.3226              51.5587              52.7113              53.5444              54.5442               53.2111               54.4331               55.2107               53.4333               53.4333      -0.081466                     0                 1\n",
      "2 2000-06-13   AAPL         0.7182               0.6930               0.7276               0.7205               0.7338               0.7058                0.6873                0.7020                0.6930                0.7343                0.7694       0.017569                     1                 0\n",
      "3 2000-06-13    ABC         5.6162               5.0282               4.9442               4.7642               4.9202               5.0402                5.2802                5.4962                5.6522                5.5202                5.5922       0.114281                     1                 0\n",
      "4 2000-06-13    ABS        37.6250              37.4380              37.7500              37.1250              36.8750              35.3130               37.2500               36.0000               34.8750               34.8130               34.5000       0.065472                     1                 0\n",
      "Number of NaN values per column = \n",
      " BarDate                 0\n",
      "Ticker                  0\n",
      "AdjustedClose           0\n",
      "AdjustedClose_Lag_1     0\n",
      "AdjustedClose_Lag_2     0\n",
      "AdjustedClose_Lag_3     0\n",
      "AdjustedClose_Lag_4     0\n",
      "AdjustedClose_Lag_5     0\n",
      "AdjustedClose_Lead_1    0\n",
      "AdjustedClose_Lead_2    0\n",
      "AdjustedClose_Lead_3    0\n",
      "AdjustedClose_Lead_4    0\n",
      "AdjustedClose_Lead_5    0\n",
      "FiveDayReturn           0\n",
      "PreviousDayDirection    0\n",
      "NextDayDirection        0\n",
      "dtype: int64\n",
      "NaN value dropped\n",
      "Unrealistic returns have been removed. \n",
      "\n",
      "The distribution of feature before removing outliers is: \n",
      "\n"
     ]
    },
    {
     "data": {
      "image/png": "[encoded data removed]",
      "text/plain": [
       "<Figure size 1000x600 with 1 Axes>"
      ]
     },
     "metadata": {},
     "output_type": "display_data"
    },
    {
     "name": "stdout",
     "output_type": "stream",
     "text": [
      "\n",
      " Mean = 0.0005748422249080596 \n",
      " std = 0.024302050602369757 \n",
      " Lower bound: -0.12093541078694073 \n",
      " Upper bound: 0.12208509523675684 \n",
      "\n",
      "\n",
      " the outliers are clipped \n",
      "\n",
      "The distribution of feature after removing outliers is: \n",
      "\n"
     ]
    },
    {
     "name": "stderr",
     "output_type": "stream",
     "text": [
      "c:\\Documents_local\\Thesis_New\\Load_data.py:256: SettingWithCopyWarning: \n",
      "A value is trying to be set on a copy of a slice from a DataFrame.\n",
      "Try using .loc[row_indexer,col_indexer] = value instead\n",
      "\n",
      "See the caveats in the documentation: https://pandas.pydata.org/pandas-docs/stable/user_guide/indexing.html#returning-a-view-versus-a-copy\n",
      "  df[str_column_name] = df[str_column_name].clip(lower=lower_bound, upper=upper_bound)\n"
     ]
    },
    {
     "data": {
      "image/png": "[encoded data removed]",
      "text/plain": [
       "<Figure size 1000x600 with 1 Axes>"
      ]
     },
     "metadata": {},
     "output_type": "display_data"
    },
    {
     "name": "stdout",
     "output_type": "stream",
     "text": [
      "Number of NaN values per column = \n",
      " BarDate                   0\n",
      "Ticker                    0\n",
      "AdjustedClose             0\n",
      "AdjustedClose_Lag_1       0\n",
      "AdjustedClose_Lag_2       0\n",
      "AdjustedClose_Lag_3       0\n",
      "AdjustedClose_Lag_4       0\n",
      "AdjustedClose_Lag_5       0\n",
      "AdjustedClose_Lead_1      0\n",
      "AdjustedClose_Lead_2      0\n",
      "AdjustedClose_Lead_3      0\n",
      "AdjustedClose_Lead_4      0\n",
      "AdjustedClose_Lead_5      0\n",
      "FiveDayReturn             0\n",
      "PreviousDayDirection      0\n",
      "NextDayDirection          0\n",
      "PreviousdayReturn         0\n",
      "PreviousdayReturn_2     188\n",
      "PreviousdayReturn_3     376\n",
      "NextdayReturn           188\n",
      "NextdayReturn_2         376\n",
      "NextdayReturn_3         564\n",
      "dtype: int64\n",
      "NaN value dropped\n",
      "The total number of 0's and 1's in the target column is: \n",
      " Target\n",
      "1    343816\n",
      "0    340347\n",
      "Name: count, dtype: int64\n"
     ]
    }
   ],
   "source": [
    "import Load_data\n",
    "importlib.reload(Load_data)\n",
    "df_market = Load_data.add_variables(df_market_raw)"
   ]
  },
  {
   "attachments": {},
   "cell_type": "markdown",
   "metadata": {},
   "source": [
    "### Load Sentiment data"
   ]
  },
  {
   "cell_type": "code",
   "execution_count": 6,
   "metadata": {},
   "outputs": [],
   "source": [
    "import Load_data\n",
    "importlib.reload(Load_data)\n",
    "# Loads raw RavenPack data from CSV\n",
    "df_RP_raw = Load_data.load_csv(\"df_RP_raw\")"
   ]
  },
  {
   "attachments": {},
   "cell_type": "markdown",
   "metadata": {},
   "source": [
    "### Create SESI score"
   ]
  },
  {
   "cell_type": "code",
   "execution_count": 7,
   "metadata": {},
   "outputs": [
    {
     "name": "stderr",
     "output_type": "stream",
     "text": [
      "  2%|▏         | 35621/1647697 [00:21<16:23, 1638.55it/s]"
     ]
    }
   ],
   "source": [
    "import SESI\n",
    "importlib.reload(SESI)\n",
    "# Creates daily SESI score from raw RavenPack data\n",
    "df_SESI = SESI.SESI(df_RP_raw)\n",
    "# Adds Ticker column to df_SESI\n",
    "df_SESI = SESI.add_ticker(df_SESI)"
   ]
  },
  {
   "attachments": {},
   "cell_type": "markdown",
   "metadata": {},
   "source": [
    "### Merge df_SESI and df_market to df and add lagged SESI"
   ]
  },
  {
   "cell_type": "code",
   "execution_count": null,
   "metadata": {},
   "outputs": [],
   "source": [
    "# Takes long to run, +-1100min\n",
    "import Load_data\n",
    "importlib.reload(Load_data)\n",
    "df = Load_data.add_SESI(df_market, df_SESI)"
   ]
  },
  {
   "cell_type": "code",
   "execution_count": null,
   "metadata": {},
   "outputs": [],
   "source": [
    "import SESI\n",
    "importlib.reload(SESI)\n",
    "df = SESI.add_lag(df)  # Als dit werkt dan hierboven zetten"
   ]
  },
  {
   "cell_type": "code",
   "execution_count": null,
   "metadata": {},
   "outputs": [],
   "source": [
    "## Check every row, then save values again with lagged_SESI"
   ]
  },
  {
   "attachments": {},
   "cell_type": "markdown",
   "metadata": {},
   "source": [
    "### Load or Save data"
   ]
  },
  {
   "cell_type": "code",
   "execution_count": null,
   "metadata": {},
   "outputs": [],
   "source": [
    "# import Load_data\n",
    "# importlib.reload(Load_data)\n",
    "# file_name = \"df_Compustat_SPH_SESI\"\n",
    "# df = Load_data.load_csv(file_name)\n",
    "\n",
    "import Save_data\n",
    "importlib.reload(Save_data)\n",
    "file_name = \"df_Compustat_SPH_SESI\"\n",
    "Save_data.save_to_csv(df, file_name)"
   ]
  },
  {
   "attachments": {},
   "cell_type": "markdown",
   "metadata": {},
   "source": [
    "## Analyze data"
   ]
  },
  {
   "cell_type": "code",
   "execution_count": null,
   "metadata": {},
   "outputs": [],
   "source": [
    "import Analyze_data\n",
    "importlib.reload(Analyze_data)\n",
    "\n",
    "# Check the number of unique elements of SymbolExchangeCode for every BarDate\n",
    "Analyze_data.unique_stocks_by_date(df)"
   ]
  },
  {
   "cell_type": "code",
   "execution_count": null,
   "metadata": {},
   "outputs": [],
   "source": [
    "import Analyze_data\n",
    "importlib.reload(Analyze_data)\n",
    "\n",
    "# Plot all stocks\n",
    "Analyze_data.plot_all_stocks(df, max_AdjustedClose = 2500)"
   ]
  },
  {
   "cell_type": "code",
   "execution_count": null,
   "metadata": {},
   "outputs": [],
   "source": [
    "# Show summary statistics for CS_MedianNextDayReturn\n",
    "print(df['CS_MedianNextdayReturn'].describe())"
   ]
  },
  {
   "cell_type": "code",
   "execution_count": null,
   "metadata": {},
   "outputs": [],
   "source": [
    "# Specify which metrics you want to check\n",
    "\n",
    "bool_dict = {\n",
    "    'descriptive_stats': True,\n",
    "    'correlation_matrix': False,\n",
    "    \"histogram\": False,\n",
    "    \"boxplot\": False,\n",
    "    \"scatterplot\": False,\n",
    "    \"lineplot\": False,\n",
    "    \"heatmap\": False,\n",
    "    \"barplot\": False,\n",
    "    \"piechart\": False,\n",
    "    \"violinplot\": False,\n",
    "    \"kdeplot\": False,\n",
    "    \"hexbinplot\": False,\n",
    "    \"scatter_matrix\": False,\n",
    "    \"parallel_coordinates\": False,\n",
    "    \"andrews_curves\": False,\n",
    "    \"radviz\": False,\n",
    "    \"lag_plot\": False,\n",
    "    \"autocorrelation_plot\": False,\n",
    "    \"bootstrap_plot\": False\n",
    "}\n",
    "\n",
    "import Analyze_data\n",
    "importlib.reload(Analyze_data)\n",
    "\n",
    "Analyze_data.Data_analysis(df, bool_dict)"
   ]
  },
  {
   "attachments": {},
   "cell_type": "markdown",
   "metadata": {},
   "source": [
    "## Load prepared data"
   ]
  },
  {
   "cell_type": "code",
   "execution_count": null,
   "metadata": {},
   "outputs": [],
   "source": [
    "# Import required packages\n",
    "import numpy as np\n",
    "import pandas as pd\n",
    "import matplotlib.pyplot as plt\n",
    "import seaborn as sns\n",
    "\n",
    "import importlib\n",
    "from warnings import simplefilter\n",
    "from six import StringIO\n",
    "from IPython.display import Image\n",
    "\n",
    "# Reload external files\n",
    "import importlib\n",
    "\n",
    "# Mute warnings\n",
    "simplefilter(action='ignore', category=FutureWarning)\n",
    "simplefilter(action='ignore', category=DeprecationWarning)\n",
    "\n",
    "import datetime\n",
    "\n",
    "from tqdm import tqdm\n",
    "from tqdm._tqdm_notebook import tqdm_notebook\n",
    "tqdm_notebook.pandas()\n",
    "\n",
    "import os"
   ]
  },
  {
   "cell_type": "code",
   "execution_count": null,
   "metadata": {},
   "outputs": [],
   "source": [
    "# Loads prepared data, data preparation not needed anymore after this\n",
    "\n",
    "import Load_data\n",
    "importlib.reload(Load_data)\n",
    "file_name = \"df_Compustat_SPH_SESI\"\n",
    "df = Load_data.load_csv(file_name)"
   ]
  },
  {
   "cell_type": "code",
   "execution_count": null,
   "metadata": {},
   "outputs": [],
   "source": [
    "# # Order df by BarDate and SymbolExchangeCode\n",
    "# df = df.sort_values(by = [\"BarDate\", \"Ticker\"])\n",
    "# # reset index\n",
    "# df = df.reset_index(drop = True)"
   ]
  },
  {
   "cell_type": "code",
   "execution_count": null,
   "metadata": {},
   "outputs": [],
   "source": [
    "# First 'Hyperparameter' is the sequence_length/time_steps\n",
    "time_steps = 3\n",
    "b_sentiment_score = True\n",
    "n_past_returns = 1"
   ]
  },
  {
   "attachments": {},
   "cell_type": "markdown",
   "metadata": {},
   "source": [
    "## Feature engineering"
   ]
  },
  {
   "cell_type": "code",
   "execution_count": null,
   "metadata": {},
   "outputs": [],
   "source": [
    "percentage_split_number = 0.60 # With the larger SP500H index we might be able to get back to 2008 with a reasonable percentage (0.40 min)\n",
    "b_MinMaxScaler = True \n",
    "b_standardizer = False \n",
    "\n",
    "import Data_preparation\n",
    "importlib.reload(Data_preparation)\n",
    "\n",
    "# Scale features with MinMaxScaler or standardize features with StandardScaler\n",
    "df = Data_preparation.feature_scaling(df, b_MinMaxScaler, b_standardizer, percentage_split_number)\n",
    "\n",
    "# Creates splits and features and target dataframes\n",
    "X_in_sample, X_test, y_in_sample, y_test, X_train, X_val, y_train, y_val = Data_preparation.create_splits(df, percentage_split_number, model = \"not_lstm\", b_sentiment_score = b_sentiment_score)"
   ]
  },
  {
   "attachments": {},
   "cell_type": "markdown",
   "metadata": {},
   "source": [
    "# Classification models"
   ]
  },
  {
   "cell_type": "code",
   "execution_count": null,
   "metadata": {},
   "outputs": [],
   "source": [
    "# Creates dataframe which will be filled with all predictions\n",
    "df_classifications = df.loc[:, df.columns.isin([\"BarDate\", \"Ticker\", \"NextdayReturn\", 'Target'])]\n",
    "df_classifications = df_classifications.tail(len(X_test))\n",
    "\n",
    "# Creates dataframe which will be filled with all classifications\n",
    "df_predictions = df.loc[:, df.columns.isin([\"BarDate\", \"Ticker\", \"NextdayReturn\", 'Target'])]\n",
    "df_predictions = df_predictions.tail(len(X_test))\n",
    "\n",
    "# Creates dataframe which will be filled with all Accuracy values\n",
    "df_accuracy = pd.DataFrame({}, index=[\"All\", \"Top 10\", \"Top 20\", \"Top decile\", \"Top quintile\", \"Second quintile\", \"Third quintile\", \"Fourth quintile\", \"Bottom quintile\", \"Bottom decile\", \"Bottom 20\", \"Bottom 10\"])\n",
    "# Expanding window size for predictions in the test set +- 1 year\n",
    "window_size = 500*500\n",
    "\n",
    "# Change dtypes to 32 for memory efficiency\n",
    "df['PreviousdayReturn'] = df['PreviousdayReturn'].astype('float32')\n",
    "df['PreviousdayReturn_2'] = df['PreviousdayReturn_2'].astype('float32')\n",
    "df['PreviousdayReturn_3'] = df['PreviousdayReturn_3'].astype('float32')\n",
    "df[\"Target\"] = df[\"Target\"].astype('float32')\n",
    "df[\"SESI\"] = df[\"SESI\"].astype('float32')"
   ]
  },
  {
   "attachments": {},
   "cell_type": "markdown",
   "metadata": {},
   "source": [
    "## Benchmark models"
   ]
  },
  {
   "attachments": {},
   "cell_type": "markdown",
   "metadata": {},
   "source": [
    "### Logistic Regression"
   ]
  },
  {
   "cell_type": "code",
   "execution_count": null,
   "metadata": {},
   "outputs": [],
   "source": [
    "import Logistic_regression\n",
    "importlib.reload(Logistic_regression)\n",
    "\n",
    "ar_classifications_lr, ar_predictions_lr, model_lr = Logistic_regression.logistic_regression(window_size, y_in_sample, X_in_sample, y_test, X_test)\n",
    "\n",
    "# Add predictions to df_predictions\n",
    "df_predictions[\"predictions_lr\"] = ar_predictions_lr\n",
    "# Add classifications to df_classifications\n",
    "df_classifications[\"classifications_lr\"] = ar_classifications_lr"
   ]
  },
  {
   "cell_type": "code",
   "execution_count": null,
   "metadata": {},
   "outputs": [],
   "source": [
    "import Evaluation_metrics\n",
    "importlib.reload(Evaluation_metrics)\n",
    "\n",
    "predictions_accuracy = Evaluation_metrics.prediction_metrics(df_classifications, str_model = \"lr\", str_single_metric = \"Accuracy\")\n",
    "\n",
    "# Add predictions to df_predictions\n",
    "df_accuracy[\"Logistic Regresion\"] = predictions_accuracy"
   ]
  },
  {
   "attachments": {},
   "cell_type": "markdown",
   "metadata": {},
   "source": [
    "### Logistic Regression with ENet"
   ]
  },
  {
   "cell_type": "code",
   "execution_count": null,
   "metadata": {},
   "outputs": [],
   "source": [
    "# import ENet\n",
    "# importlib.reload(ENet)\n",
    "\n",
    "# # Specify the grid\n",
    "# grid = {\"l1_ratio\": [0.3, 0.5, 0.7], \"C\": np.logspace(start=-40, stop=-10, num=10, base=10)}\n",
    "# # Predictions \n",
    "# performances_ENet, best_model_ENet = ENet.ENet_tune(X_train, y_train, X_val, y_val, grid)"
   ]
  },
  {
   "cell_type": "code",
   "execution_count": null,
   "metadata": {},
   "outputs": [],
   "source": [
    "# # At the moment this returns 50% proba always, not sure if ENEt a good model for our features\n",
    "# # Or something is wrong with the code\n",
    "\n",
    "# import ENet\n",
    "# importlib.reload(ENet)\n",
    "\n",
    "# ar_classifications_enet, ar_predictions_enet, model_enet = ENet.ENet_test(best_model_ENet, window_size, y_in_sample, X_in_sample, y_test, X_test)\n",
    "\n",
    "# # Add predictions to df_predictions\n",
    "# df_predictions[\"predictions_enet\"] = ar_predictions_enet\n",
    "# # Add classifications to df_classifications\n",
    "# df_classifications[\"classifications_enet\"] = ar_classifications_enet"
   ]
  },
  {
   "cell_type": "code",
   "execution_count": null,
   "metadata": {},
   "outputs": [],
   "source": [
    "# import Evaluation_metrics\n",
    "# importlib.reload(Evaluation_metrics)\n",
    "\n",
    "# predictions_accuracy = Evaluation_metrics.prediction_metrics(df_classifications, str_model = \"enet\", str_single_metric = \"Accuracy\")\n",
    "\n",
    "# # Add predictions to df_predictions\n",
    "# df_accuracy[\"Elastic Net\"] = predictions_accuracy"
   ]
  },
  {
   "attachments": {},
   "cell_type": "markdown",
   "metadata": {},
   "source": [
    "### Random Forests"
   ]
  },
  {
   "cell_type": "code",
   "execution_count": null,
   "metadata": {},
   "outputs": [],
   "source": [
    "import sklearn\n",
    "print(sklearn.__version__)\n",
    "\n",
    "# Should be 1.2.2"
   ]
  },
  {
   "cell_type": "code",
   "execution_count": null,
   "metadata": {},
   "outputs": [],
   "source": [
    "# 234min for PC1, (with tuning 4*4 combinations), with SESI\n",
    "# 120min for PC3, Without SESI\n",
    "# 160min for PC2, Without SESI\n",
    "\n",
    "import RF\n",
    "importlib.reload(RF)\n",
    "\n",
    "# Specify the grid \n",
    "# n_jobs = -1 makes use of all cores\n",
    "# When setting max_depth > 2 and more then 100000 rows, the kernel crashes\n",
    "# Try a different RF package?\n",
    "grid = {\"n_estimators\": [500, 700, 900],   \n",
    "        \"max_depth\": [2, 4, 6, 8]}\n",
    "                                                  #\"max_features\":    [3, 5, 10]} # Not needed because we only have 4 features\n",
    "# Predictions \n",
    "performances_RF, best_model_RF =  RF.RF_tune(X_train, y_train, X_val, y_val, grid)   #RF.RF_tune(X_train_1000, y_train_1000, X_val_1000, y_val_1000, grid)                       #RF.RF_tune(X_train, y_train, X_val, y_val, grid)"
   ]
  },
  {
   "cell_type": "code",
   "execution_count": null,
   "metadata": {},
   "outputs": [],
   "source": [
    "# 213min for PC1, with SESI\n",
    "# 120min for PC3, Without SESI\n",
    "# 220min for PC2, Without SESI\n",
    "\n",
    "import RF\n",
    "importlib.reload(RF)\n",
    "\n",
    "ar_classifications_rf, ar_predictions_rf, model_rf = RF.RF_test(best_model_RF, window_size, y_in_sample, X_in_sample, y_test, X_test)\n",
    "\n",
    "# Add predictions to df_predictions\n",
    "df_predictions[\"predictions_rf\"] = ar_predictions_rf\n",
    "# Add classifications to df_classifications\n",
    "df_classifications[\"classifications_rf\"] = ar_classifications_rf"
   ]
  },
  {
   "cell_type": "code",
   "execution_count": null,
   "metadata": {},
   "outputs": [],
   "source": [
    "import Evaluation_metrics\n",
    "importlib.reload(Evaluation_metrics)\n",
    "\n",
    "predictions_accuracy = Evaluation_metrics.prediction_metrics(df_classifications, str_model = \"rf\", str_single_metric = \"Accuracy\")\n",
    "\n",
    "# Add predictions to df_predictions\n",
    "df_accuracy[\"Random Forest\"] = predictions_accuracy"
   ]
  },
  {
   "attachments": {},
   "cell_type": "markdown",
   "metadata": {},
   "source": [
    "### Gradient Boosting Classifier"
   ]
  },
  {
   "cell_type": "code",
   "execution_count": null,
   "metadata": {},
   "outputs": [],
   "source": [
    "# 210min for PC1, with SESI\n",
    "# 160min for PC3, without SESI\n",
    "# 180min for PC2, Without SESI\n",
    "\n",
    "import GBC\n",
    "importlib.reload(GBC)\n",
    "\n",
    "# Specify the grid \n",
    "grid = {\"n_estimators\": [100, 200, 500],\n",
    "        \"learning_rate\":[0.01, 0.1, 0.2],\n",
    "        \"max_depth\": [1, 2, 3]}\n",
    "# Predictions \n",
    "performances_GBC, best_model_GBC = GBC.GBC_tune(X_train, y_train, X_val, y_val, grid)"
   ]
  },
  {
   "cell_type": "code",
   "execution_count": null,
   "metadata": {},
   "outputs": [],
   "source": [
    "# ... min for PC1, with SESI\n",
    "# 35 min for PC3, Without SESI\n",
    "# 40min for PC2, Without SESI\n",
    "\n",
    "import GBC\n",
    "importlib.reload(GBC)\n",
    "\n",
    "ar_classifications_gbc, ar_predictions_gbc, model_gbc = GBC.GBC_test(best_model_GBC, window_size, y_in_sample, X_in_sample, y_test, X_test)\n",
    "\n",
    "# Add predictions to df_predictions\n",
    "df_predictions[\"predictions_gbc\"] = ar_predictions_gbc\n",
    "# Add classifications to df_classifications\n",
    "df_classifications[\"classifications_gbc\"] = ar_classifications_gbc"
   ]
  },
  {
   "cell_type": "code",
   "execution_count": null,
   "metadata": {},
   "outputs": [],
   "source": [
    "import Evaluation_metrics\n",
    "importlib.reload(Evaluation_metrics)\n",
    "\n",
    "predictions_accuracy = Evaluation_metrics.prediction_metrics(df_classifications, str_model = \"gbc\", str_single_metric = \"Accuracy\")\n",
    "\n",
    "# Add predictions to df_predictions\n",
    "df_accuracy[\"Gradient Boosting Classifier\"] = predictions_accuracy"
   ]
  },
  {
   "attachments": {},
   "cell_type": "markdown",
   "metadata": {},
   "source": [
    "## LSTM model"
   ]
  },
  {
   "cell_type": "code",
   "execution_count": null,
   "metadata": {},
   "outputs": [],
   "source": [
    "# First 'Hyperparameter' is the sequence_length/time_steps\n",
    "model = \"lstm\""
   ]
  },
  {
   "cell_type": "code",
   "execution_count": null,
   "metadata": {},
   "outputs": [],
   "source": [
    "X_in_sample_lstm.shape"
   ]
  },
  {
   "cell_type": "code",
   "execution_count": null,
   "metadata": {},
   "outputs": [],
   "source": [
    "# select the last 3 rows of X_in_sample_lstm\n",
    "X_in_sample_lstm[-3:,:,:]"
   ]
  },
  {
   "cell_type": "code",
   "execution_count": null,
   "metadata": {},
   "outputs": [],
   "source": [
    "X_in_sample[X_in_sample[\"Ticker\"] == \"STI\"].tail(10)"
   ]
  },
  {
   "cell_type": "code",
   "execution_count": null,
   "metadata": {},
   "outputs": [],
   "source": [
    "X_in_sample.shape"
   ]
  },
  {
   "cell_type": "code",
   "execution_count": null,
   "metadata": {},
   "outputs": [],
   "source": [
    "# Takes 8min\n",
    "\n",
    "# Unclear if this is needed, maybe using 3 lags with time steps is also good, test this\n",
    "import LSTM\n",
    "importlib.reload(LSTM)\n",
    "\n",
    "# Creates splits and features and target dataframes\n",
    "X_in_sample, X_test, y_in_sample, y_test, X_train, X_val, y_train, y_val = Data_preparation.create_splits(df, percentage_split_number, model, b_sentiment_score)\n",
    "\n",
    "# Type should be multi_index_dataframe or 3D_array\n",
    "X_in_sample_lstm, X_test_lstm, y_in_sample_lstm, y_test_lstm, X_train_lstm, X_val_lstm, y_train_lstm, y_val_lstm = LSTM.data_preparation(X_in_sample, X_test, y_in_sample, y_test, X_train, X_val, y_train, y_val, time_steps, b_sentiment_score, n_past_returns)\n",
    "\n",
    "# Check if df_accuracy exists, if not create it\n",
    "try:\n",
    "    df_accuracy\n",
    "except NameError:\n",
    "    # Creates dataframe which will be filled with all Accuracy values\n",
    "    df_accuracy = pd.DataFrame({}, index=[\"All\", \"Top 10\", \"Top 20\", \"Top decile\", \"Top quintile\", \"Second quintile\", \"Third quintile\", \"Fourth quintile\", \"Bottom quintile\", \"Bottom decile\", \"Bottom 20\", \"Bottom 10\"])\n"
   ]
  },
  {
   "cell_type": "code",
   "execution_count": null,
   "metadata": {},
   "outputs": [],
   "source": [
    "# Turn of printing for PC1??? It prints a lot of shit \n",
    "# 185min for PC1, with SESI\n",
    "\n",
    "# Takes #Epochs * #Tuning parameters * 1min to run  approximately\n",
    "\n",
    "import LSTM\n",
    "importlib.reload(LSTM)\n",
    "\n",
    "# Specify the grid \n",
    "# 18ms/step with dropout=0.1 and recurrent_dropout=0.1\n",
    "# 8ms/step with dropout=0.1 and recurrent_dropout=0.0\n",
    "grid ={\"dropout\": [0.1], # Fischer uses 0.1                                                                             # Not much difference   \n",
    "        \"recurrent_dropout\": [0.1],     #[0, 0.1], # Fischer uses 0.1 (after hyperparameter tuning)                                                                   # Adding recurrent_dropout makes the model 2.25 times slower   \n",
    "        \"learning_rate\": [0.001],          #[0.1, 0.01, 0.001], # 0.001 is default for RMSprop and adam (also seemed best)                                              # learning_rate smaller should take longer to run but I do not see any difference here for values  0.1, 0.01, 0.001, 0.0001\n",
    "        \"batch_size\": [64],     #[32, 64], # Default is 32                                                                              # Twice as fast with a twice as big batch size\n",
    "        \"optimizer\" : [\"RMSprop\"], # RMSprop Not default but used bij Fisher and good for RNN, default is adam             # adam seems eually fast as RMSprop                \n",
    "        \"sequence_length\": [time_steps] # 250 is roughly 1 year of data\n",
    "        }              \n",
    "\n",
    "# Make custom loss metric or evaluation metric for tuning\n",
    "\n",
    "\n",
    "# Trains model on validation set\n",
    "performances_LSTM, best_model_LSTM = LSTM.LSTM_tune(X_train_lstm, y_train_lstm, X_val_lstm, y_val_lstm, grid, b_sentiment_score, n_past_returns, n_nodes=64) \n",
    "\n",
    "# Plot the training and validation loss for the best model also return the best model\n",
    "LSTM.plot_train_val_loss(performances_LSTM)        #, tuning_metric = \"val_loss\") # tuning_metric = \"val_loss\" or \"val_accuracy\"\n",
    "\n",
    "\n",
    "# Hoe lang duurt 1 LSTM loop???????????????? Dit is met 1 lookback -> Aan de hand hiervan Tuning par bepalen   -> 14min\n"
   ]
  },
  {
   "cell_type": "code",
   "execution_count": null,
   "metadata": {},
   "outputs": [],
   "source": [
    "# The number of rows in df_classification, df_predictions and df_classifications_lstm, df_predictions_lstm are not the same yet due to the time_steps\n",
    "\n",
    "# Creates dataframe which will be filled with all predictions\n",
    "df_classifications_lstm = df.loc[:, df.columns.isin([\"BarDate\", \"Ticker\", \"NextdayReturn\", \"Target\"])]\n",
    "df_classifications_lstm = df_classifications_lstm.tail(len(X_test_lstm))\n",
    "\n",
    "# Creates dataframe which will be filled with all classifications\n",
    "df_predictions_lstm = df.loc[:, df.columns.isin([\"BarDate\", \"Ticker\", \"NextdayReturn\", \"Target\"])]\n",
    "df_predictions_lstm = df_predictions_lstm.tail(len(X_test_lstm))"
   ]
  },
  {
   "cell_type": "code",
   "execution_count": null,
   "metadata": {},
   "outputs": [],
   "source": [
    "# Takes #Epochs times 5 times 70sec to run\n",
    "\n",
    "import LSTM\n",
    "importlib.reload(LSTM)\n",
    "\n",
    "# Takes 160 minutes to run\n",
    "ar_predictions_lstm, ar_classifications_lstm, model_lstm = LSTM.LSTM_test(best_model_LSTM, window_size, y_in_sample_lstm, X_in_sample_lstm, y_test_lstm, X_test_lstm, b_sentiment_score, n_past_returns, n_nodes=64) \n",
    "\n",
    "# Add predictions to df_predictions\n",
    "df_predictions_lstm[\"predictions_lstm\"] = ar_predictions_lstm\n",
    "print(df_predictions_lstm[df_predictions_lstm[\"predictions_lstm\"] > 0.5].count())\n",
    "# Add predictions to df_predictions\n",
    "df_classifications_lstm[\"classifications_lstm\"] = ar_classifications_lstm\n",
    "print(df_classifications_lstm[df_classifications_lstm[\"classifications_lstm\"] == 1].count())"
   ]
  },
  {
   "cell_type": "code",
   "execution_count": null,
   "metadata": {},
   "outputs": [],
   "source": [
    "model_lstm.summary()"
   ]
  },
  {
   "cell_type": "code",
   "execution_count": null,
   "metadata": {},
   "outputs": [],
   "source": [
    "# %pip uninstall numpy\n",
    "# %pip install numpy==1.19.5\n",
    "\n",
    "# import shap\n",
    "\n",
    "# # We initialize the javascript for SHAP\n",
    "# shap.initjs()\n",
    "\n",
    "# X_train_lstm_sample = X_train_lstm[np.random.choice(X_train_lstm.shape[0], 1000, replace=False)]\n",
    "\n",
    "# # We create an explainer. DeepExplainer works well for deep learning models like LSTM.\n",
    "# explainer = shap.DeepExplainer(model_lstm, X_train_lstm_sample)\n",
    "\n",
    "# # Generate SHAP values\n",
    "# shap_values = explainer.shap_values(X_train_lstm_sample)\n",
    "\n",
    "# # Convert the input training set to a numpy array\n",
    "# X_train_array = np.array(X_train_lstm_sample)\n",
    "\n",
    "# # Summarize the effects of all the features\n",
    "# shap.summary_plot(shap_values, X_train_array)\n"
   ]
  },
  {
   "cell_type": "code",
   "execution_count": null,
   "metadata": {},
   "outputs": [],
   "source": [
    "model_lstm.save('model_lstm.h5')"
   ]
  },
  {
   "cell_type": "code",
   "execution_count": null,
   "metadata": {},
   "outputs": [],
   "source": [
    "from keras.models import load_model\n",
    "\n",
    "model_lstm = load_model('model_lstm.h5')"
   ]
  },
  {
   "cell_type": "code",
   "execution_count": null,
   "metadata": {},
   "outputs": [],
   "source": [
    "#Note: you may need to restart the kernel to use updated packages.\n",
    "from keras.utils import plot_model\n",
    "\n",
    "plot_model(model_lstm, to_file='model_lstm.png')"
   ]
  },
  {
   "cell_type": "code",
   "execution_count": null,
   "metadata": {},
   "outputs": [],
   "source": [
    "# Check the number of unique elements of SymbolExchangeCode for every BarDate\n",
    "test = X_test.groupby(\"BarDate\")[\"Ticker\"].nunique()\n",
    "\n",
    "# Plot the number of unique elements of SymbolExchangeCode for every BarDate\n",
    "X_test.groupby(\"BarDate\")[\"Ticker\"].nunique().plot()"
   ]
  },
  {
   "cell_type": "code",
   "execution_count": null,
   "metadata": {},
   "outputs": [],
   "source": [
    "import Evaluation_metrics\n",
    "importlib.reload(Evaluation_metrics)\n",
    "\n",
    "predictions_accuracy = Evaluation_metrics.prediction_metrics(df_classifications_lstm, str_model = \"lstm\", str_single_metric = \"Accuracy\")\n",
    "\n",
    "# Add predictions to df_predictions\n",
    "df_accuracy[\"LSTM\"] = predictions_accuracy"
   ]
  },
  {
   "attachments": {},
   "cell_type": "markdown",
   "metadata": {},
   "source": [
    "# Model evaluation"
   ]
  },
  {
   "attachments": {},
   "cell_type": "markdown",
   "metadata": {},
   "source": [
    "# Portfolio backtests"
   ]
  },
  {
   "cell_type": "code",
   "execution_count": null,
   "metadata": {},
   "outputs": [],
   "source": [
    "#### Portfolio part needs to be adjusted, seminar model"
   ]
  },
  {
   "cell_type": "code",
   "execution_count": null,
   "metadata": {},
   "outputs": [],
   "source": [
    "# long_only = True\n",
    "# short_only = False\n",
    "\n",
    "# # Number of long and short stocks\n",
    "# n_both = 20\n",
    "# n_long = n_both\n",
    "# n_short = n_both\n",
    "\n",
    "# Choose which models we want\n",
    "backtest_models = [\"lr\", \"rf\", \"gbc\", \"lstm\"]                               #[\"lr\", \"rf\", \"gbc\", \"lstm]                #\"NN1\", \"NN2\", \"NN3\", \"NN4\", \"NN5\"] \n",
    "\n",
    "# Choose weighting method (Equal weighted (Equal) or RankBased weighted (RankBased))\n",
    "# weighting_method = \"Equal\" \n",
    "\n",
    "# Initialize to be filled dataframe with portfolio returns\n",
    "df_returns_portfolio = pd.DataFrame({\"BarDate\": df_predictions[\"BarDate\"].unique()})\n",
    "# Initialize to be filled dataframe with portfolio returns\n",
    "df_returns_portfolio_lstm = pd.DataFrame({\"BarDate\": df_predictions_lstm[\"BarDate\"].unique()})\n",
    "\n",
    "dict_df_metrics = {}\t\n",
    "# # Initialize to be filled dataframe with portfolio metrics\n",
    "# df_metrics = pd.DataFrame({}, index=['total_return', \"mean_return\", 'std_dev', 'information_ratio', \"appraisal_ratio\",\n",
    "#                                       'max_drawdown', 'max_1_month_loss', 'max_1_year_loss', \"turnover\"])\n",
    "\n",
    "# # Cumulative return of stock index, used only in plot\n",
    "# stockindex_returns_cum = (1 + df_stockindex_returns[\"Return\"]).cumprod() - 1\n",
    "df_stockindex_returns = None\n",
    "\n",
    "# Define the colors for the lines\n",
    "colors = ['red', 'blue', 'green', 'orange', 'red', 'blue', 'green', 'orange']"
   ]
  },
  {
   "cell_type": "code",
   "execution_count": null,
   "metadata": {},
   "outputs": [],
   "source": [
    "# Takes 5:30 to run\n",
    "\n",
    "# Creates a matrix with all actual returns only \n",
    "# The last columns are not the last dates. These all seem NaN values.............Something must change...........................\n",
    "stocks = df['Ticker'].unique()\n",
    "returnsMatrix = pd.DataFrame(index=df_predictions['BarDate'].unique(), columns=stocks)\n",
    "for stock in stocks:\n",
    "    stock_df = df[df['Ticker'] == stock]\n",
    "    for index, row in stock_df.iterrows():\n",
    "        returnsMatrix.at[row['BarDate'], stock] = row['NextdayReturn']"
   ]
  },
  {
   "cell_type": "code",
   "execution_count": null,
   "metadata": {},
   "outputs": [],
   "source": [
    "# Extra metrics take long to run\n",
    "# Takes +-12min to run\n",
    "\n",
    "import Portfolio_backtester\n",
    "importlib.reload(Portfolio_backtester)\n",
    "\n",
    "# Number of long and short stocks\n",
    "# for n_both in tqdm([10, 20, 50]):\n",
    "\n",
    "n_both = 20\n",
    "n_long = n_both\n",
    "n_short = n_both\n",
    "n_constituents = n_both * 2\n",
    "# Create a loop which first sets long_only = True and then short_only = True and then both = False\n",
    "for long_only in tqdm([True, False]):\n",
    "    for short_only in [True, False]:\n",
    "        if (long_only == True) & (short_only == True):\n",
    "            continue\n",
    "\n",
    "        # Plot the cumulative portfolio return\n",
    "        plt.subplots(figsize=(20,10))\n",
    "        # Dictionary to be filled with weight matrices\n",
    "        weight_matrix_dict = {}\n",
    "        # Use this for color of the lines\n",
    "        i = 0\n",
    "        for weighting_method in tqdm([\"Equal\", \"RankBased\"]):\n",
    "            dict_df_metrics[f\"{weighting_method}_{n_both}\"] = pd.DataFrame({}, index=['total_return', \"mean_return\", 'std_dev', 'information_ratio', \"appraisal_ratio\", 'max_drawdown', 'max_1_month_loss', 'max_1_year_loss', \"turnover\"])\n",
    "            for backtest_model in tqdm(backtest_models\n",
    "                # Predictions are now stored in two different objects\n",
    "                if backtest_model == \"lstm\":\n",
    "                    df_predictions_backtest = df_predictions_lstm\n",
    "                    df_returns_portfolio_backtest = df_returns_portfolio_lstm\n",
    "                else:\n",
    "                    df_predictions_backtest = df_predictions\n",
    "                    df_returns_portfolio_backtest = df_returns_portfolio\n",
    "\n",
    "                predictions_test_set, df_returns_portfolio_backtest, str_returns_portfolio_cum, str_logreturns_portfolio_cum, weightMatrix = Portfolio_backtester.backtest(df_predictions_backtest,n_long,n_short,backtest_model,\n",
    "                                                                                weighting_method, df_returns_portfolio_backtest, returnsMatrix, long_only, short_only)\n",
    "                weight_matrix_dict.update({backtest_model: weightMatrix})\n",
    "          \n",
    "                if weighting_method == \"Equal\":\n",
    "                    plt.plot(pd.to_datetime(df_returns_portfolio_backtest[\"BarDate\"]), df_returns_portfolio_backtest[str_logreturns_portfolio_cum], color = colors[i], label=str(f\"{backtest_model} {weighting_method}\"))\n",
    "                elif(weighting_method == \"RankBased\"):\n",
    "                    plt.plot(pd.to_datetime(df_returns_portfolio_backtest[\"BarDate\"]), df_returns_portfolio_backtest[str_logreturns_portfolio_cum], color = colors[i], linestyle = '--', label=str(f\"{backtest_model} {weighting_method}\"))\n",
    "                # Gives metrics\n",
    "                dict_df_metrics[f\"{weighting_method}_{n_both}\"] = Portfolio_backtester.metrics(df_returns_portfolio_backtest, backtest_model, dict_df_metrics[f\"{weighting_method}_{n_both}\"], df_stockindex_returns, returnsMatrix, weightMatrix)\n",
    "                i = i + 1\n",
    "\n",
    "        #plt.plot(pd.to_datetime(df_stockindex_returns[\"Date\"]), stockindex_returns_cum) # Plots long only index\n",
    "        plt.axvspan(datetime.datetime.strptime(\"29/02/2020\", '%d/%m/%Y').date(), datetime.datetime.strptime(\"31/03/2020\", '%d/%m/%Y').date(), color=\"grey\", alpha=0.5)\n",
    "        # plt.axvspan(datetime.datetime.strptime(\"31/12/2007\", '%d/%m/%Y').date(), datetime.datetime.strptime(\"31/05/2009\", '%d/%m/%Y').date(), color=\"grey\", alpha=0.5)\n",
    "\n",
    "        plt.xlabel(xlabel=\"Date\", fontsize = \"x-large\")\n",
    "        if long_only == True:\n",
    "            plt.ylabel(ylabel=\"Cumulative portfolio (long) logreturns\", fontsize = \"x-large\")\n",
    "        if short_only == True:\n",
    "            plt.ylabel(ylabel=\"Cumulative portfolio (short) logreturns\", fontsize = \"x-large\")\n",
    "        if (long_only == False) & (short_only == False):\n",
    "            plt.ylabel(ylabel=\"Cumulative portfolio logreturns\", fontsize = \"x-large\")\n",
    "        plt.title(label=f\"Cumulative {n_constituents}-stock portfolio logreturns\", fontsize = \"xx-large\")  \n",
    "        plt.grid(linestyle='dashed', linewidth=0.5)\n",
    "        plt.legend(['lr', 'rf', 'gb', 'lstm', 'lr_rank', 'rf_rank', 'gb_rank', 'lstm_rank'] , loc = 'upper center', ncols = 4, fontsize = 'large')    # Without specifying loc it chooses the best location\n",
    "        plt.show()\n",
    "\n",
    "\n",
    "print(dict_df_metrics)"
   ]
  },
  {
   "attachments": {},
   "cell_type": "markdown",
   "metadata": {},
   "source": [
    "## Save point"
   ]
  },
  {
   "cell_type": "code",
   "execution_count": null,
   "metadata": {},
   "outputs": [],
   "source": [
    "# Change for new file!!!!!!!!!!!!!!!!!!!!!!!!!!\n",
    "b_sentiment_score \n",
    "stockindex = \"SPH\"\n",
    "LSTM_model_type = \"LSTM_model_1\"\n",
    "time_steps\n",
    "# n_both\n",
    "# weighting_method"
   ]
  },
  {
   "cell_type": "code",
   "execution_count": null,
   "metadata": {},
   "outputs": [],
   "source": [
    "from joblib import dump, load\n",
    "\n",
    "# Creating the directory name\n",
    "directory = r\"C:\\Users\\BasPeeters\\OneDrive - FactorOrange.capital\\Master Thesis\\Dataframes and output\"\n",
    "folder_name = f\"{stockindex}_SESI={b_sentiment_score}_{LSTM_model_type}_time_steps = {time_steps}\"\n",
    "full_directory = os.path.join(directory, folder_name)\n",
    "\n",
    "# Create the directory if it doesn't exist\n",
    "if not os.path.exists(full_directory):\n",
    "    os.makedirs(full_directory)\n",
    "\n",
    "# Save your dataframes using pickle\n",
    "df_classifications_lstm.to_pickle(os.path.join(full_directory, \"df_classifications_lstm.pkl\"))\n",
    "df_predictions_lstm.to_pickle(os.path.join(full_directory, \"df_predictions_lstm.pkl\"))\n",
    "df_predictions.to_pickle(os.path.join(full_directory, \"df_predictions.pkl\"))\n",
    "df_classifications.to_pickle(os.path.join(full_directory, \"df_classifications.pkl\"))\n",
    "\n",
    "# Save metrics and to csv\n",
    "df_accuracy.to_csv(os.path.join(full_directory, \"df_accuracy.csv\"))\n",
    "for key in dict_df_metrics:\n",
    "    dict_df_metrics[key].to_csv(os.path.join(full_directory, f'df_metrics_{key}.csv'))\n",
    "\n",
    "# try:\n",
    "#     df_returns_portfolio_lstm.to_pickle(os.path.join(full_directory, f\"df_returns_portfolio_lstm_n_stock={n_both}_weighting_method={weighting_method}.pkl\"))\n",
    "# except:\n",
    "#     print(\"df_returns_portfolio_lstm does not exist\")\n",
    "# try:\n",
    "#     df_returns_portfolio.to_pickle(os.path.join(full_directory, f\"df_returns_portfolio_n_stock={n_both}_weighting_method={weighting_method}.pkl\"))\n",
    "# except:\n",
    "#     print(\"df_returns_portfolio_ does not exist\")\n",
    "\n",
    "try: \n",
    "    # Save your models\n",
    "    dump(best_model_LSTM, os.path.join(full_directory, 'best_model_LSTM.joblib'))\n",
    "except:\n",
    "    print(\"best_model_LSTM does not exist\")\t\n",
    "try:\n",
    "    dump(best_model_GBC, os.path.join(full_directory, 'best_model_GBC.joblib'))\n",
    "except:\n",
    "    print(\"best_model_GBC does not exist\")\n",
    "try:\n",
    "    dump(best_model_RF, os.path.join(full_directory, 'best_model_RF.joblib'))\n",
    "except:\n",
    "    print(\"best_model_RF does not exist\")\n",
    "\n",
    "    \n",
    "print(f\"All data is saved to {full_directory}\")"
   ]
  },
  {
   "attachments": {},
   "cell_type": "markdown",
   "metadata": {},
   "source": [
    "## load point"
   ]
  },
  {
   "cell_type": "code",
   "execution_count": null,
   "metadata": {},
   "outputs": [],
   "source": [
    "from joblib import load\n",
    "\n",
    "# Creating the directory name\n",
    "directory = r\"C:\\Users\\BasPeeters\\OneDrive - FactorOrange.capital\\Master Thesis\\Dataframes and output\"\n",
    "folder_name = f\"{stockindex}_SESI={b_sentiment_score}_{LSTM_model_type}_time_steps = {time_steps}\"\n",
    "full_directory = os.path.join(directory, folder_name)\n",
    "\n",
    "# dict_df_metrics = pd.read_pickle(os.path.join(full_directory, \"dict_df_metrics.pkl\"))\n",
    "df_classifications_lstm = pd.read_pickle(os.path.join(full_directory, \"df_classifications_lstm.pkl\"))\n",
    "df_predictions_lstm = pd.read_pickle(os.path.join(full_directory, \"df_predictions_lstm.pkl\"))\n",
    "df_predictions = pd.read_pickle(os.path.join(full_directory, \"df_predictions.pkl\"))\n",
    "df_classifications = pd.read_pickle(os.path.join(full_directory, \"df_classifications.pkl\"))\n",
    "# df_accuracy = pd.read_pickle(os.path.join(full_directory, \"df_accuracy.pkl\"))\n",
    "# df_returns_portfolio_lstm = pd.read_pickle(os.path.join(full_directory, f\"df_returns_portfolio_lstm_n_stock={n_both}_weighting_method={weighting_method}.pkl\"))\n",
    "# df_returns_portfolio = pd.read_pickle(os.path.join(full_directory, f\"df_returns_portfolio_n_stock={n_both}_weighting_method={weighting_method}.pkl\"))\n",
    "\n",
    "df_accuracy = pd.read_csv(os.path.join(full_directory, \"df_accuracy.csv\"))\n",
    "dict_df_metrics = {}\n",
    "for key in [\"Equal_20\", \"RankBased_20\"]:\n",
    "    dict_df_metrics[key] = pd.read_csv(os.path.join(full_directory, f'df_metrics_{key}.csv'))\n",
    "\n",
    "# best_model_LSTM = load(os.path.join(full_directory, \"best_model_LSTM.joblib\"))\n",
    "# best_model_GBC = load(os.path.join(full_directory, \"best_model_GBC.joblib\"))\n",
    "# best_model_RF = load(os.path.join(full_directory, \"best_model_RF.joblib\"))"
   ]
  },
  {
   "attachments": {},
   "cell_type": "markdown",
   "metadata": {},
   "source": [
    "## This is nice"
   ]
  },
  {
   "cell_type": "code",
   "execution_count": null,
   "metadata": {},
   "outputs": [],
   "source": [
    "import matplotlib.pyplot as plt\n",
    "import numpy as np\n",
    "\n",
    "# Assuming you have your data in the following format:\n",
    "# data = {\n",
    "#     'Portfolio1': {'10': {'Accuracy': 0.8, 'Sharpe Ratio': 1.2, 'Std Dev': 0.1, 'Return': 0.05},\n",
    "#                    '20': {'Accuracy': 0.75, 'Sharpe Ratio': 1.1, 'Std Dev': 0.15, 'Return': 0.06},\n",
    "#                    '30': {'Accuracy': 0.85, 'Sharpe Ratio': 1.3, 'Std Dev': 0.12, 'Return': 0.07}},\n",
    "#     'Portfolio2': {'10': {'Accuracy': 0.9, 'Sharpe Ratio': 1.4, 'Std Dev': 0.11, 'Return': 0.08},\n",
    "#                    '20': {'Accuracy': 0.88, 'Sharpe Ratio': 1.5, 'Std Dev': 0.13, 'Return': 0.09},\n",
    "#                    '30': {'Accuracy': 0.92, 'Sharpe Ratio': 1.6, 'Std Dev': 0.14, 'Return': 0.1}},\n",
    "#     ...\n",
    "# }\n",
    "\n",
    "data = {\n",
    "    'Portfolio1': {'10': {'Accuracy': 0.8, 'Sharpe Ratio': 1.2, 'Std Dev': 0.1, 'Return': 0.05},\n",
    "                   '20': {'Accuracy': 0.75, 'Sharpe Ratio': 1.1, 'Std Dev': 0.15, 'Return': 0.06},\n",
    "                   '30': {'Accuracy': 0.85, 'Sharpe Ratio': 1.3, 'Std Dev': 0.12, 'Return': 0.07}},\n",
    "    'Portfolio2': {'10': {'Accuracy': 0.9, 'Sharpe Ratio': 1.4, 'Std Dev': 0.11, 'Return': 0.08},\n",
    "                   '20': {'Accuracy': 0.88, 'Sharpe Ratio': 1.5, 'Std Dev': 0.13, 'Return': 0.09},\n",
    "                   '30': {'Accuracy': 0.92, 'Sharpe Ratio': 1.6, 'Std Dev': 0.14, 'Return': 0.1}},\n",
    "    # Add more portfolios as needed\n",
    "}\n",
    "\n",
    "colors = ['b', 'g', 'r', 'c', 'm', 'y', 'k']  # Add more colors if you have more than 7 portfolios\n",
    "\n",
    "fig, ax = plt.subplots(4, 3, figsize=(10, 10))\n",
    "\n",
    "# Plotting\n",
    "for i, metric in enumerate(['Accuracy', 'Sharpe Ratio', 'Std Dev', 'Return']):\n",
    "    for j, num_stocks in enumerate(['10', '20', '30']):\n",
    "        ax[i, j].bar(data.keys(), [v[num_stocks][metric] for v in data.values()], color=colors)\n",
    "        if i == 0:\n",
    "            ax[i, j].set_title(f'{num_stocks} stocks')\n",
    "        if j == 0:\n",
    "            ax[i, j].set_ylabel(metric)\n",
    "\n",
    "plt.tight_layout()\n",
    "plt.show()\n"
   ]
  },
  {
   "cell_type": "code",
   "execution_count": null,
   "metadata": {},
   "outputs": [],
   "source": [
    "# Test"
   ]
  }
 ],
 "metadata": {
  "kernelspec": {
   "display_name": "Python 3",
   "language": "python",
   "name": "python3"
  },
  "language_info": {
   "codemirror_mode": {
    "name": "ipython",
    "version": 3
   },
   "file_extension": ".py",
   "mimetype": "text/x-python",
   "name": "python",
   "nbconvert_exporter": "python",
   "pygments_lexer": "ipython3",
   "version": "3.10.4"
  },
  "orig_nbformat": 4
 },
 "nbformat": 4,
 "nbformat_minor": 2
}
